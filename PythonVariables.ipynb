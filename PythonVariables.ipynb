{
 "cells": [
  {
   "cell_type": "code",
   "execution_count": 1,
   "id": "5c39a0cb",
   "metadata": {},
   "outputs": [
    {
     "data": {
      "text/plain": [
       "str"
      ]
     },
     "execution_count": 1,
     "metadata": {},
     "output_type": "execute_result"
    }
   ],
   "source": [
    "#Q1. Create one variable containing following type of data:\n",
    "#(i) string\n",
    "\n",
    "a=\"My name is Shubham\"\n",
    "type(a)"
   ]
  },
  {
   "cell_type": "code",
   "execution_count": 2,
   "id": "3582c5bb",
   "metadata": {},
   "outputs": [
    {
     "name": "stdout",
     "output_type": "stream",
     "text": [
      "My name is Shubham\n"
     ]
    }
   ],
   "source": [
    "print(a)"
   ]
  },
  {
   "cell_type": "code",
   "execution_count": 3,
   "id": "198fdc60",
   "metadata": {},
   "outputs": [
    {
     "data": {
      "text/plain": [
       "list"
      ]
     },
     "execution_count": 3,
     "metadata": {},
     "output_type": "execute_result"
    }
   ],
   "source": [
    "#(ii) list\n",
    "b=[\"Shubham\",28,'M',\"Cross Road 33\"]\n",
    "type(b)"
   ]
  },
  {
   "cell_type": "code",
   "execution_count": 4,
   "id": "b04c884a",
   "metadata": {},
   "outputs": [
    {
     "name": "stdout",
     "output_type": "stream",
     "text": [
      "['Shubham', 28, 'M', 'Cross Road 33']\n"
     ]
    }
   ],
   "source": [
    "print(b)"
   ]
  },
  {
   "cell_type": "code",
   "execution_count": 5,
   "id": "6889523a",
   "metadata": {},
   "outputs": [
    {
     "data": {
      "text/plain": [
       "float"
      ]
     },
     "execution_count": 5,
     "metadata": {},
     "output_type": "execute_result"
    }
   ],
   "source": [
    "#(iii) float\n",
    "c=12.32\n",
    "type(c)"
   ]
  },
  {
   "cell_type": "code",
   "execution_count": 6,
   "id": "5476fa31",
   "metadata": {},
   "outputs": [
    {
     "name": "stdout",
     "output_type": "stream",
     "text": [
      "12.32\n"
     ]
    }
   ],
   "source": [
    "print(c)"
   ]
  },
  {
   "cell_type": "code",
   "execution_count": 7,
   "id": "98c07d70",
   "metadata": {},
   "outputs": [
    {
     "data": {
      "text/plain": [
       "tuple"
      ]
     },
     "execution_count": 7,
     "metadata": {},
     "output_type": "execute_result"
    }
   ],
   "source": [
    "#(iv) tuple\n",
    "d=(12,17,21,32,28)\n",
    "type(d)"
   ]
  },
  {
   "cell_type": "code",
   "execution_count": 8,
   "id": "99ade611",
   "metadata": {},
   "outputs": [
    {
     "name": "stdout",
     "output_type": "stream",
     "text": [
      "(12, 17, 21, 32, 28)\n"
     ]
    }
   ],
   "source": [
    "print(d)"
   ]
  },
  {
   "cell_type": "code",
   "execution_count": null,
   "id": "a8746bb8",
   "metadata": {},
   "outputs": [],
   "source": []
  },
  {
   "cell_type": "code",
   "execution_count": 9,
   "id": "fc38a1e8",
   "metadata": {},
   "outputs": [
    {
     "ename": "SyntaxError",
     "evalue": "invalid character '‘' (U+2018) (3348424619.py, line 4)",
     "output_type": "error",
     "traceback": [
      "\u001b[0;36m  Cell \u001b[0;32mIn[9], line 4\u001b[0;36m\u001b[0m\n\u001b[0;31m    var1=‘‘\u001b[0m\n\u001b[0m         ^\u001b[0m\n\u001b[0;31mSyntaxError\u001b[0m\u001b[0;31m:\u001b[0m invalid character '‘' (U+2018)\n"
     ]
    }
   ],
   "source": [
    "#Q2. Given are some following variables containing data:\n",
    "#(i)var1=‘‘-- Invalid\n",
    "\n",
    "var1=‘‘\n",
    "type(var1)"
   ]
  },
  {
   "cell_type": "code",
   "execution_count": 11,
   "id": "b05506b3",
   "metadata": {},
   "outputs": [
    {
     "ename": "SyntaxError",
     "evalue": "invalid character '‘' (U+2018) (1234650512.py, line 3)",
     "output_type": "error",
     "traceback": [
      "\u001b[0;36m  Cell \u001b[0;32mIn[11], line 3\u001b[0;36m\u001b[0m\n\u001b[0;31m    var2 = ‘[ DS , ML , Python]’\u001b[0m\n\u001b[0m           ^\u001b[0m\n\u001b[0;31mSyntaxError\u001b[0m\u001b[0;31m:\u001b[0m invalid character '‘' (U+2018)\n"
     ]
    }
   ],
   "source": [
    "#(ii) var2 = ‘[ DS , ML , Python]’-- Invalid\n",
    "\n",
    "var2 = ‘[ DS , ML , Python]’\n",
    "type(var2)"
   ]
  },
  {
   "cell_type": "code",
   "execution_count": 12,
   "id": "7241799d",
   "metadata": {},
   "outputs": [
    {
     "ename": "SyntaxError",
     "evalue": "invalid character '‘' (U+2018) (2002089636.py, line 3)",
     "output_type": "error",
     "traceback": [
      "\u001b[0;36m  Cell \u001b[0;32mIn[12], line 3\u001b[0;36m\u001b[0m\n\u001b[0;31m    var3 = [ ‘DS’ , ’ML’ , ‘Python’ ]\u001b[0m\n\u001b[0m             ^\u001b[0m\n\u001b[0;31mSyntaxError\u001b[0m\u001b[0;31m:\u001b[0m invalid character '‘' (U+2018)\n"
     ]
    }
   ],
   "source": [
    "#(iii) var3 = [ ‘DS’ , ’ML’ , ‘Python’ ]--Invalid\n",
    "\n",
    "var3 = [ ‘DS’ , ’ML’ , ‘Python’ ]\n",
    "type(var3)"
   ]
  },
  {
   "cell_type": "code",
   "execution_count": 13,
   "id": "d86bfe66",
   "metadata": {},
   "outputs": [
    {
     "data": {
      "text/plain": [
       "int"
      ]
     },
     "execution_count": 13,
     "metadata": {},
     "output_type": "execute_result"
    }
   ],
   "source": [
    "#(iv) var4 = 1--integer\n",
    "\n",
    "var4 = 1\n",
    "type(var4)"
   ]
  },
  {
   "cell_type": "code",
   "execution_count": null,
   "id": "47038312",
   "metadata": {},
   "outputs": [],
   "source": []
  },
  {
   "cell_type": "code",
   "execution_count": 14,
   "id": "18af36df",
   "metadata": {},
   "outputs": [
    {
     "name": "stdout",
     "output_type": "stream",
     "text": [
      "1.4\n"
     ]
    }
   ],
   "source": [
    "#Q3. Explain the use of the following operators using an example:\n",
    "#(i) /-- Division(Float):divides the first operand by the second\n",
    "a=5\n",
    "b=7\n",
    "c=b/a\n",
    "print(c)"
   ]
  },
  {
   "cell_type": "code",
   "execution_count": 15,
   "id": "6fc55b1a",
   "metadata": {},
   "outputs": [
    {
     "name": "stdout",
     "output_type": "stream",
     "text": [
      "2\n"
     ]
    }
   ],
   "source": [
    "#(ii) %-- Modulus:returns the remainder when the first operand is divided by the second\n",
    "a=3\n",
    "b=5\n",
    "c=b%a\n",
    "print(c)"
   ]
  },
  {
   "cell_type": "code",
   "execution_count": 16,
   "id": "18fde7b2",
   "metadata": {},
   "outputs": [
    {
     "name": "stdout",
     "output_type": "stream",
     "text": [
      "1\n"
     ]
    }
   ],
   "source": [
    "#iii) //-- Floor Division:divides the first operand by the second\n",
    "a=12\n",
    "b=20\n",
    "c=b//a\n",
    "print(c)"
   ]
  },
  {
   "cell_type": "code",
   "execution_count": 17,
   "id": "71630d73",
   "metadata": {},
   "outputs": [
    {
     "name": "stdout",
     "output_type": "stream",
     "text": [
      "125\n"
     ]
    }
   ],
   "source": [
    "#(iv) **--Power: Returns first raised to power second\n",
    "a=5\n",
    "b=3\n",
    "c=a**b\n",
    "print(c)"
   ]
  },
  {
   "cell_type": "code",
   "execution_count": 18,
   "id": "67c1936b",
   "metadata": {},
   "outputs": [
    {
     "name": "stdout",
     "output_type": "stream",
     "text": [
      "Shubham:<class 'str'>\n",
      "Singh:<class 'str'>\n",
      "28:<class 'int'>\n",
      "Jamshedpur:<class 'str'>\n",
      "Jharkhand:<class 'str'>\n",
      "India:<class 'str'>\n",
      "831009:<class 'int'>\n",
      "22.76:<class 'float'>\n",
      "86.2:<class 'float'>\n",
      "True:<class 'bool'>\n"
     ]
    }
   ],
   "source": [
    "#Q4. Create a list of length 10 of your choice containing multiple types of data. Using for loop print the element and its data type.\n",
    "\n",
    "lists = ['Shubham','Singh',28,'Jamshedpur','Jharkhand','India',831009,22.76,86.20,True]\n",
    "for list1 in lists:\n",
    "    print(list1,type(list1),sep=\":\")"
   ]
  },
  {
   "cell_type": "code",
   "execution_count": 27,
   "id": "e7839eb0",
   "metadata": {},
   "outputs": [
    {
     "name": "stdout",
     "output_type": "stream",
     "text": [
      "2\n",
      "Not Divisible\n",
      "Not Divisible\n",
      "5\n",
      "Not Divisible\n",
      "Not Divisible\n",
      "Not Divisible\n",
      "Not Divisible\n",
      "10\n"
     ]
    }
   ],
   "source": [
    "#Q5. Using a while loop, verify if the number A is purely divisible by number B and if so then how many times it can be divisible.\n",
    "\n",
    "i=2\n",
    "n=10\n",
    "\n",
    "while i<=n:\n",
    "    if n%i == 0:\n",
    "        print(i)\n",
    "    else:\n",
    "        print(\"Not Divisible\")\n",
    "    i = i+1"
   ]
  },
  {
   "cell_type": "code",
   "execution_count": 25,
   "id": "e6567598",
   "metadata": {},
   "outputs": [
    {
     "name": "stdout",
     "output_type": "stream",
     "text": [
      "7 : Not divisible by 3\n",
      "9 : Divisible by 3\n",
      "12 : Divisible by 3\n",
      "14 : Not divisible by 3\n",
      "15 : Divisible by 3\n",
      "17 : Not divisible by 3\n",
      "21 : Divisible by 3\n",
      "27 : Divisible by 3\n",
      "30 : Divisible by 3\n",
      "32 : Not divisible by 3\n",
      "33 : Divisible by 3\n",
      "35 : Not divisible by 3\n",
      "37 : Not divisible by 3\n",
      "39 : Divisible by 3\n",
      "41 : Not divisible by 3\n",
      "47 : Not divisible by 3\n",
      "48 : Divisible by 3\n",
      "51 : Divisible by 3\n",
      "52 : Not divisible by 3\n",
      "54 : Divisible by 3\n",
      "55 : Not divisible by 3\n",
      "62 : Not divisible by 3\n",
      "63 : Divisible by 3\n",
      "65 : Not divisible by 3\n",
      "68 : Not divisible by 3\n"
     ]
    }
   ],
   "source": [
    "#Q6. Create a list containing 25 int type data. Using for loop and if-else condition print if the element is divisible by 3 or not.\n",
    "\n",
    "list2 = [7,9,12,14,15,17,21,27,30,32,33,35,37,39,41,47,48,51,52,54,55,62,63,65,68]\n",
    "for i in list2 :\n",
    "   if(i%3==0):\n",
    "      print(i,\"Divisible by 3\",sep=\" : \")\n",
    "   else:\n",
    "    print(i,\"Not divisible by 3\",sep=\" : \")"
   ]
  },
  {
   "cell_type": "code",
   "execution_count": null,
   "id": "96da21ec",
   "metadata": {},
   "outputs": [],
   "source": [
    "#Q7. What do you understand about mutable and immutable data types? Give examples for both showing this property.\n",
    "\n",
    "#i. Mutable datatype: A mutable object can be changed after it is created.\n",
    "# Example: List, Dictionary, Set\n",
    "# List = [\"Shubham\", \"Singh\", 25, India]\n",
    "\n",
    "#ii. Immutable datatype: An immutable object cannot be changed after it is created.\n",
    "# Example: Number, String, Tuple\n",
    "# Tuple = (\"Adam\", True, 29.0, \"Australia\")"
   ]
  },
  {
   "cell_type": "code",
   "execution_count": null,
   "id": "61c8a169",
   "metadata": {},
   "outputs": [],
   "source": []
  },
  {
   "cell_type": "code",
   "execution_count": null,
   "id": "6eef2491",
   "metadata": {},
   "outputs": [],
   "source": []
  },
  {
   "cell_type": "code",
   "execution_count": null,
   "id": "07658b57",
   "metadata": {},
   "outputs": [],
   "source": []
  },
  {
   "cell_type": "code",
   "execution_count": null,
   "id": "6c10f45e",
   "metadata": {},
   "outputs": [],
   "source": []
  }
 ],
 "metadata": {
  "kernelspec": {
   "display_name": "Python 3 (ipykernel)",
   "language": "python",
   "name": "python3"
  },
  "language_info": {
   "codemirror_mode": {
    "name": "ipython",
    "version": 3
   },
   "file_extension": ".py",
   "mimetype": "text/x-python",
   "name": "python",
   "nbconvert_exporter": "python",
   "pygments_lexer": "ipython3",
   "version": "3.10.9"
  }
 },
 "nbformat": 4,
 "nbformat_minor": 5
}
